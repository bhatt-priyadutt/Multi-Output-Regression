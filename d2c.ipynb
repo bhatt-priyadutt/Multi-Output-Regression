{
  "nbformat": 4,
  "nbformat_minor": 5,
  "metadata": {
    "colab": {
      "name": "d2c.ipynb",
      "provenance": [],
      "collapsed_sections": []
    },
    "kernelspec": {
      "display_name": "Python 3",
      "language": "python",
      "name": "python3"
    },
    "language_info": {
      "codemirror_mode": {
        "name": "ipython",
        "version": 3
      },
      "file_extension": ".py",
      "mimetype": "text/x-python",
      "name": "python",
      "nbconvert_exporter": "python",
      "pygments_lexer": "ipython3",
      "version": "3.9.5"
    }
  },
  "cells": [
    {
      "cell_type": "code",
      "metadata": {
        "colab": {
          "base_uri": "https://localhost:8080/"
        },
        "id": "hA-6t4fRREpZ",
        "outputId": "7d849c75-bee5-4eea-f560-15aa1e68011b"
      },
      "source": [
        "!pip install klib"
      ],
      "id": "hA-6t4fRREpZ",
      "execution_count": 2,
      "outputs": [
        {
          "output_type": "stream",
          "name": "stdout",
          "text": [
            "Collecting klib\n",
            "  Downloading klib-0.2.0-py3-none-any.whl (28 kB)\n",
            "Requirement already satisfied: matplotlib>=3.0.3 in /usr/local/lib/python3.7/dist-packages (from klib) (3.2.2)\n",
            "Requirement already satisfied: pandas>=1.1 in /usr/local/lib/python3.7/dist-packages (from klib) (1.1.5)\n",
            "Collecting scikit-learn>=0.23\n",
            "  Downloading scikit_learn-0.24.2-cp37-cp37m-manylinux2010_x86_64.whl (22.3 MB)\n",
            "\u001b[K     |████████████████████████████████| 22.3 MB 66.4 MB/s \n",
            "\u001b[?25hRequirement already satisfied: scipy>=1.0.0 in /usr/local/lib/python3.7/dist-packages (from klib) (1.4.1)\n",
            "Requirement already satisfied: numpy>=1.15.4 in /usr/local/lib/python3.7/dist-packages (from klib) (1.19.5)\n",
            "Requirement already satisfied: seaborn>=0.11.1 in /usr/local/lib/python3.7/dist-packages (from klib) (0.11.1)\n",
            "Requirement already satisfied: pyparsing!=2.0.4,!=2.1.2,!=2.1.6,>=2.0.1 in /usr/local/lib/python3.7/dist-packages (from matplotlib>=3.0.3->klib) (2.4.7)\n",
            "Requirement already satisfied: python-dateutil>=2.1 in /usr/local/lib/python3.7/dist-packages (from matplotlib>=3.0.3->klib) (2.8.2)\n",
            "Requirement already satisfied: cycler>=0.10 in /usr/local/lib/python3.7/dist-packages (from matplotlib>=3.0.3->klib) (0.10.0)\n",
            "Requirement already satisfied: kiwisolver>=1.0.1 in /usr/local/lib/python3.7/dist-packages (from matplotlib>=3.0.3->klib) (1.3.1)\n",
            "Requirement already satisfied: six in /usr/local/lib/python3.7/dist-packages (from cycler>=0.10->matplotlib>=3.0.3->klib) (1.15.0)\n",
            "Requirement already satisfied: pytz>=2017.2 in /usr/local/lib/python3.7/dist-packages (from pandas>=1.1->klib) (2018.9)\n",
            "Requirement already satisfied: joblib>=0.11 in /usr/local/lib/python3.7/dist-packages (from scikit-learn>=0.23->klib) (1.0.1)\n",
            "Collecting threadpoolctl>=2.0.0\n",
            "  Downloading threadpoolctl-2.2.0-py3-none-any.whl (12 kB)\n",
            "Installing collected packages: threadpoolctl, scikit-learn, klib\n",
            "  Attempting uninstall: scikit-learn\n",
            "    Found existing installation: scikit-learn 0.22.2.post1\n",
            "    Uninstalling scikit-learn-0.22.2.post1:\n",
            "      Successfully uninstalled scikit-learn-0.22.2.post1\n",
            "Successfully installed klib-0.2.0 scikit-learn-0.24.2 threadpoolctl-2.2.0\n"
          ]
        }
      ]
    },
    {
      "cell_type": "code",
      "metadata": {
        "colab": {
          "base_uri": "https://localhost:8080/"
        },
        "id": "v4BkaM6yD6tG",
        "outputId": "2f67b55e-fb8a-4ee6-eb34-01fe719a879c"
      },
      "source": [
        "from google.colab import drive\n",
        "drive.mount('/content/drive')"
      ],
      "id": "v4BkaM6yD6tG",
      "execution_count": 1,
      "outputs": [
        {
          "output_type": "stream",
          "name": "stdout",
          "text": [
            "Mounted at /content/drive\n"
          ]
        }
      ]
    },
    {
      "cell_type": "code",
      "metadata": {
        "id": "92005069"
      },
      "source": [
        "import pandas as pd\n",
        "import numpy as np\n",
        "import matplotlib.pyplot as plt\n",
        "import seaborn as sns\n",
        "import klib"
      ],
      "id": "92005069",
      "execution_count": 7,
      "outputs": []
    },
    {
      "cell_type": "code",
      "metadata": {
        "id": "94a1e13b"
      },
      "source": [
        "df = pd.read_csv('/content/drive/MyDrive/Colab Notebooks/datasets/d2c/train.csv')"
      ],
      "id": "94a1e13b",
      "execution_count": 8,
      "outputs": []
    },
    {
      "cell_type": "code",
      "metadata": {
        "id": "79a17c7f"
      },
      "source": [
        "test = pd.read_csv('/content/drive/MyDrive/Colab Notebooks/datasets/d2c/test.csv')"
      ],
      "id": "79a17c7f",
      "execution_count": 9,
      "outputs": []
    },
    {
      "cell_type": "code",
      "metadata": {
        "colab": {
          "base_uri": "https://localhost:8080/",
          "height": 223
        },
        "id": "2f71390b",
        "outputId": "5ad8ac96-7a39-4a9d-f4a8-797c01b55fa5"
      },
      "source": [
        "df.head()"
      ],
      "id": "2f71390b",
      "execution_count": 10,
      "outputs": [
        {
          "output_type": "execute_result",
          "data": {
            "text/html": [
              "<div>\n",
              "<style scoped>\n",
              "    .dataframe tbody tr th:only-of-type {\n",
              "        vertical-align: middle;\n",
              "    }\n",
              "\n",
              "    .dataframe tbody tr th {\n",
              "        vertical-align: top;\n",
              "    }\n",
              "\n",
              "    .dataframe thead th {\n",
              "        text-align: right;\n",
              "    }\n",
              "</style>\n",
              "<table border=\"1\" class=\"dataframe\">\n",
              "  <thead>\n",
              "    <tr style=\"text-align: right;\">\n",
              "      <th></th>\n",
              "      <th>UNIQUE_IDENTIFIER</th>\n",
              "      <th>SEQUENCE_NO</th>\n",
              "      <th>STATUS_CHECK</th>\n",
              "      <th>CATEGORY_1</th>\n",
              "      <th>CATEGORY_2</th>\n",
              "      <th>ACTIVE_YN</th>\n",
              "      <th>ENTRY</th>\n",
              "      <th>REVENUE</th>\n",
              "      <th>WINNINGS_1</th>\n",
              "      <th>WINNINGS_2</th>\n",
              "      <th>DISCOUNT</th>\n",
              "      <th>DEPOSIT</th>\n",
              "      <th>DEPOSIT_NUMBER</th>\n",
              "      <th>DEPOSIT_2</th>\n",
              "      <th>WITHDRAW</th>\n",
              "      <th>WITHDRAW_NUMBER</th>\n",
              "      <th>DEPOSIT_TRAILS</th>\n",
              "      <th>ENTRY_NUMBER</th>\n",
              "      <th>WINNINGS_NUMBER</th>\n",
              "      <th>PRACTICE_ENTRY</th>\n",
              "      <th>PRACTICE_WINNINGS</th>\n",
              "      <th>PRACTICE_ENTRY_NUMBER</th>\n",
              "      <th>PRACTICE_WINNINGS_NUMBER</th>\n",
              "      <th>Y1</th>\n",
              "      <th>Y2</th>\n",
              "    </tr>\n",
              "  </thead>\n",
              "  <tbody>\n",
              "    <tr>\n",
              "      <th>0</th>\n",
              "      <td>98481267304</td>\n",
              "      <td>1</td>\n",
              "      <td>0</td>\n",
              "      <td>M</td>\n",
              "      <td>B</td>\n",
              "      <td>1</td>\n",
              "      <td>0.00000</td>\n",
              "      <td>0.000000</td>\n",
              "      <td>0.0000</td>\n",
              "      <td>0.0</td>\n",
              "      <td>0.0</td>\n",
              "      <td>0.25</td>\n",
              "      <td>0.1</td>\n",
              "      <td>0.25</td>\n",
              "      <td>0.0</td>\n",
              "      <td>0.0</td>\n",
              "      <td>0.0</td>\n",
              "      <td>0.0</td>\n",
              "      <td>0.0</td>\n",
              "      <td>0.0</td>\n",
              "      <td>0.0</td>\n",
              "      <td>0.0</td>\n",
              "      <td>0.0</td>\n",
              "      <td>4.449287</td>\n",
              "      <td>101.369863</td>\n",
              "    </tr>\n",
              "    <tr>\n",
              "      <th>1</th>\n",
              "      <td>98481267304</td>\n",
              "      <td>2</td>\n",
              "      <td>0</td>\n",
              "      <td>M</td>\n",
              "      <td>B</td>\n",
              "      <td>1</td>\n",
              "      <td>0.13735</td>\n",
              "      <td>0.011550</td>\n",
              "      <td>0.0999</td>\n",
              "      <td>0.0</td>\n",
              "      <td>0.0</td>\n",
              "      <td>0.00</td>\n",
              "      <td>0.0</td>\n",
              "      <td>0.00</td>\n",
              "      <td>0.0</td>\n",
              "      <td>0.0</td>\n",
              "      <td>0.0</td>\n",
              "      <td>1.8</td>\n",
              "      <td>1.0</td>\n",
              "      <td>0.0</td>\n",
              "      <td>0.0</td>\n",
              "      <td>0.0</td>\n",
              "      <td>0.0</td>\n",
              "      <td>4.449287</td>\n",
              "      <td>101.369863</td>\n",
              "    </tr>\n",
              "    <tr>\n",
              "      <th>2</th>\n",
              "      <td>98481267304</td>\n",
              "      <td>3</td>\n",
              "      <td>0</td>\n",
              "      <td>M</td>\n",
              "      <td>B</td>\n",
              "      <td>1</td>\n",
              "      <td>0.15835</td>\n",
              "      <td>0.010425</td>\n",
              "      <td>0.0242</td>\n",
              "      <td>0.0</td>\n",
              "      <td>0.0</td>\n",
              "      <td>0.00</td>\n",
              "      <td>0.0</td>\n",
              "      <td>0.00</td>\n",
              "      <td>0.0</td>\n",
              "      <td>0.0</td>\n",
              "      <td>0.0</td>\n",
              "      <td>0.7</td>\n",
              "      <td>0.3</td>\n",
              "      <td>0.0</td>\n",
              "      <td>0.0</td>\n",
              "      <td>0.0</td>\n",
              "      <td>0.0</td>\n",
              "      <td>4.449287</td>\n",
              "      <td>101.369863</td>\n",
              "    </tr>\n",
              "    <tr>\n",
              "      <th>3</th>\n",
              "      <td>98481267304</td>\n",
              "      <td>4</td>\n",
              "      <td>0</td>\n",
              "      <td>M</td>\n",
              "      <td>B</td>\n",
              "      <td>1</td>\n",
              "      <td>0.44490</td>\n",
              "      <td>0.035850</td>\n",
              "      <td>0.2398</td>\n",
              "      <td>0.0</td>\n",
              "      <td>0.0</td>\n",
              "      <td>0.00</td>\n",
              "      <td>0.0</td>\n",
              "      <td>0.00</td>\n",
              "      <td>0.0</td>\n",
              "      <td>0.0</td>\n",
              "      <td>0.0</td>\n",
              "      <td>2.8</td>\n",
              "      <td>1.5</td>\n",
              "      <td>0.0</td>\n",
              "      <td>0.0</td>\n",
              "      <td>0.0</td>\n",
              "      <td>0.0</td>\n",
              "      <td>4.449287</td>\n",
              "      <td>101.369863</td>\n",
              "    </tr>\n",
              "    <tr>\n",
              "      <th>4</th>\n",
              "      <td>98481267304</td>\n",
              "      <td>5</td>\n",
              "      <td>0</td>\n",
              "      <td>M</td>\n",
              "      <td>B</td>\n",
              "      <td>1</td>\n",
              "      <td>0.00000</td>\n",
              "      <td>0.000000</td>\n",
              "      <td>0.0000</td>\n",
              "      <td>0.0</td>\n",
              "      <td>0.0</td>\n",
              "      <td>0.00</td>\n",
              "      <td>0.0</td>\n",
              "      <td>0.00</td>\n",
              "      <td>0.0</td>\n",
              "      <td>0.0</td>\n",
              "      <td>0.0</td>\n",
              "      <td>0.0</td>\n",
              "      <td>0.0</td>\n",
              "      <td>0.0</td>\n",
              "      <td>0.0</td>\n",
              "      <td>0.0</td>\n",
              "      <td>0.0</td>\n",
              "      <td>4.449287</td>\n",
              "      <td>101.369863</td>\n",
              "    </tr>\n",
              "  </tbody>\n",
              "</table>\n",
              "</div>"
            ],
            "text/plain": [
              "   UNIQUE_IDENTIFIER  SEQUENCE_NO  ...        Y1          Y2\n",
              "0        98481267304            1  ...  4.449287  101.369863\n",
              "1        98481267304            2  ...  4.449287  101.369863\n",
              "2        98481267304            3  ...  4.449287  101.369863\n",
              "3        98481267304            4  ...  4.449287  101.369863\n",
              "4        98481267304            5  ...  4.449287  101.369863\n",
              "\n",
              "[5 rows x 25 columns]"
            ]
          },
          "metadata": {},
          "execution_count": 10
        }
      ]
    },
    {
      "cell_type": "code",
      "metadata": {
        "colab": {
          "base_uri": "https://localhost:8080/",
          "height": 223
        },
        "id": "4e6afab2",
        "outputId": "9af029c5-2366-46ff-f708-b4249324b65e"
      },
      "source": [
        "test.head()"
      ],
      "id": "4e6afab2",
      "execution_count": 11,
      "outputs": [
        {
          "output_type": "execute_result",
          "data": {
            "text/html": [
              "<div>\n",
              "<style scoped>\n",
              "    .dataframe tbody tr th:only-of-type {\n",
              "        vertical-align: middle;\n",
              "    }\n",
              "\n",
              "    .dataframe tbody tr th {\n",
              "        vertical-align: top;\n",
              "    }\n",
              "\n",
              "    .dataframe thead th {\n",
              "        text-align: right;\n",
              "    }\n",
              "</style>\n",
              "<table border=\"1\" class=\"dataframe\">\n",
              "  <thead>\n",
              "    <tr style=\"text-align: right;\">\n",
              "      <th></th>\n",
              "      <th>UNIQUE_IDENTIFIER</th>\n",
              "      <th>SEQUENCE_NO</th>\n",
              "      <th>STATUS_CHECK</th>\n",
              "      <th>CATEGORY_1</th>\n",
              "      <th>CATEGORY_2</th>\n",
              "      <th>ACTIVE_YN</th>\n",
              "      <th>ENTRY</th>\n",
              "      <th>REVENUE</th>\n",
              "      <th>WINNINGS_1</th>\n",
              "      <th>WINNINGS_2</th>\n",
              "      <th>DISCOUNT</th>\n",
              "      <th>DEPOSIT</th>\n",
              "      <th>DEPOSIT_NUMBER</th>\n",
              "      <th>DEPOSIT_2</th>\n",
              "      <th>WITHDRAW</th>\n",
              "      <th>WITHDRAW_NUMBER</th>\n",
              "      <th>DEPOSIT_TRAILS</th>\n",
              "      <th>ENTRY_NUMBER</th>\n",
              "      <th>WINNINGS_NUMBER</th>\n",
              "      <th>PRACTICE_ENTRY</th>\n",
              "      <th>PRACTICE_WINNINGS</th>\n",
              "      <th>PRACTICE_ENTRY_NUMBER</th>\n",
              "      <th>PRACTICE_WINNINGS_NUMBER</th>\n",
              "    </tr>\n",
              "  </thead>\n",
              "  <tbody>\n",
              "    <tr>\n",
              "      <th>0</th>\n",
              "      <td>98481269471</td>\n",
              "      <td>1</td>\n",
              "      <td>0</td>\n",
              "      <td>M</td>\n",
              "      <td>D</td>\n",
              "      <td>1</td>\n",
              "      <td>5.975</td>\n",
              "      <td>0.90500</td>\n",
              "      <td>0.4100</td>\n",
              "      <td>0.0</td>\n",
              "      <td>2.0</td>\n",
              "      <td>5.5</td>\n",
              "      <td>0.3</td>\n",
              "      <td>1.0</td>\n",
              "      <td>0.0</td>\n",
              "      <td>0.0</td>\n",
              "      <td>9.8</td>\n",
              "      <td>1.4</td>\n",
              "      <td>0.2</td>\n",
              "      <td>0.0</td>\n",
              "      <td>0.0</td>\n",
              "      <td>0.0</td>\n",
              "      <td>0.0</td>\n",
              "    </tr>\n",
              "    <tr>\n",
              "      <th>1</th>\n",
              "      <td>98481269471</td>\n",
              "      <td>2</td>\n",
              "      <td>0</td>\n",
              "      <td>M</td>\n",
              "      <td>D</td>\n",
              "      <td>0</td>\n",
              "      <td>0.000</td>\n",
              "      <td>0.00000</td>\n",
              "      <td>0.0000</td>\n",
              "      <td>0.0</td>\n",
              "      <td>0.4</td>\n",
              "      <td>0.0</td>\n",
              "      <td>0.0</td>\n",
              "      <td>0.0</td>\n",
              "      <td>0.0</td>\n",
              "      <td>0.0</td>\n",
              "      <td>0.0</td>\n",
              "      <td>0.0</td>\n",
              "      <td>0.0</td>\n",
              "      <td>0.0</td>\n",
              "      <td>0.0</td>\n",
              "      <td>0.0</td>\n",
              "      <td>0.0</td>\n",
              "    </tr>\n",
              "    <tr>\n",
              "      <th>2</th>\n",
              "      <td>98481270499</td>\n",
              "      <td>1</td>\n",
              "      <td>1</td>\n",
              "      <td>M</td>\n",
              "      <td>D</td>\n",
              "      <td>1</td>\n",
              "      <td>0.050</td>\n",
              "      <td>0.00750</td>\n",
              "      <td>0.0850</td>\n",
              "      <td>0.0</td>\n",
              "      <td>0.0</td>\n",
              "      <td>1.0</td>\n",
              "      <td>0.1</td>\n",
              "      <td>1.0</td>\n",
              "      <td>0.0</td>\n",
              "      <td>0.0</td>\n",
              "      <td>0.0</td>\n",
              "      <td>0.1</td>\n",
              "      <td>0.1</td>\n",
              "      <td>0.0</td>\n",
              "      <td>0.0</td>\n",
              "      <td>0.0</td>\n",
              "      <td>0.0</td>\n",
              "    </tr>\n",
              "    <tr>\n",
              "      <th>3</th>\n",
              "      <td>98481270499</td>\n",
              "      <td>2</td>\n",
              "      <td>1</td>\n",
              "      <td>M</td>\n",
              "      <td>D</td>\n",
              "      <td>1</td>\n",
              "      <td>1.750</td>\n",
              "      <td>0.26250</td>\n",
              "      <td>1.0200</td>\n",
              "      <td>0.0</td>\n",
              "      <td>0.0</td>\n",
              "      <td>0.0</td>\n",
              "      <td>0.0</td>\n",
              "      <td>0.0</td>\n",
              "      <td>0.0</td>\n",
              "      <td>0.0</td>\n",
              "      <td>0.0</td>\n",
              "      <td>3.5</td>\n",
              "      <td>1.2</td>\n",
              "      <td>0.0</td>\n",
              "      <td>0.0</td>\n",
              "      <td>0.0</td>\n",
              "      <td>0.0</td>\n",
              "    </tr>\n",
              "    <tr>\n",
              "      <th>4</th>\n",
              "      <td>98481272694</td>\n",
              "      <td>1</td>\n",
              "      <td>0</td>\n",
              "      <td>M</td>\n",
              "      <td>C</td>\n",
              "      <td>1</td>\n",
              "      <td>0.125</td>\n",
              "      <td>0.01875</td>\n",
              "      <td>0.0425</td>\n",
              "      <td>0.0</td>\n",
              "      <td>4.0</td>\n",
              "      <td>10.0</td>\n",
              "      <td>0.1</td>\n",
              "      <td>10.0</td>\n",
              "      <td>0.0</td>\n",
              "      <td>0.0</td>\n",
              "      <td>0.0</td>\n",
              "      <td>0.5</td>\n",
              "      <td>0.1</td>\n",
              "      <td>0.0</td>\n",
              "      <td>0.0</td>\n",
              "      <td>0.0</td>\n",
              "      <td>0.0</td>\n",
              "    </tr>\n",
              "  </tbody>\n",
              "</table>\n",
              "</div>"
            ],
            "text/plain": [
              "   UNIQUE_IDENTIFIER  ...  PRACTICE_WINNINGS_NUMBER\n",
              "0        98481269471  ...                       0.0\n",
              "1        98481269471  ...                       0.0\n",
              "2        98481270499  ...                       0.0\n",
              "3        98481270499  ...                       0.0\n",
              "4        98481272694  ...                       0.0\n",
              "\n",
              "[5 rows x 23 columns]"
            ]
          },
          "metadata": {},
          "execution_count": 11
        }
      ]
    },
    {
      "cell_type": "code",
      "metadata": {
        "colab": {
          "base_uri": "https://localhost:8080/"
        },
        "id": "8cd2a26a",
        "outputId": "b3fbff21-5391-4e32-f18f-b75bd1f54958"
      },
      "source": [
        "df.info()"
      ],
      "id": "8cd2a26a",
      "execution_count": 12,
      "outputs": [
        {
          "output_type": "stream",
          "name": "stdout",
          "text": [
            "<class 'pandas.core.frame.DataFrame'>\n",
            "RangeIndex: 1246837 entries, 0 to 1246836\n",
            "Data columns (total 25 columns):\n",
            " #   Column                    Non-Null Count    Dtype  \n",
            "---  ------                    --------------    -----  \n",
            " 0   UNIQUE_IDENTIFIER         1246837 non-null  int64  \n",
            " 1   SEQUENCE_NO               1246837 non-null  int64  \n",
            " 2   STATUS_CHECK              1246837 non-null  int64  \n",
            " 3   CATEGORY_1                1246837 non-null  object \n",
            " 4   CATEGORY_2                1246837 non-null  object \n",
            " 5   ACTIVE_YN                 1246837 non-null  int64  \n",
            " 6   ENTRY                     1246837 non-null  float64\n",
            " 7   REVENUE                   1246837 non-null  float64\n",
            " 8   WINNINGS_1                1246837 non-null  float64\n",
            " 9   WINNINGS_2                1246837 non-null  float64\n",
            " 10  DISCOUNT                  1246837 non-null  float64\n",
            " 11  DEPOSIT                   1246837 non-null  float64\n",
            " 12  DEPOSIT_NUMBER            1246837 non-null  float64\n",
            " 13  DEPOSIT_2                 1246837 non-null  float64\n",
            " 14  WITHDRAW                  1246837 non-null  float64\n",
            " 15  WITHDRAW_NUMBER           1246837 non-null  float64\n",
            " 16  DEPOSIT_TRAILS            1246837 non-null  float64\n",
            " 17  ENTRY_NUMBER              1246837 non-null  float64\n",
            " 18  WINNINGS_NUMBER           1246837 non-null  float64\n",
            " 19  PRACTICE_ENTRY            1246837 non-null  float64\n",
            " 20  PRACTICE_WINNINGS         1246837 non-null  float64\n",
            " 21  PRACTICE_ENTRY_NUMBER     1246837 non-null  float64\n",
            " 22  PRACTICE_WINNINGS_NUMBER  1246837 non-null  float64\n",
            " 23  Y1                        1246837 non-null  float64\n",
            " 24  Y2                        1246837 non-null  float64\n",
            "dtypes: float64(19), int64(4), object(2)\n",
            "memory usage: 237.8+ MB\n"
          ]
        }
      ]
    },
    {
      "cell_type": "code",
      "metadata": {
        "id": "89b7325f"
      },
      "source": [
        "df=klib.convert_datatypes(df)"
      ],
      "id": "89b7325f",
      "execution_count": 13,
      "outputs": []
    },
    {
      "cell_type": "code",
      "metadata": {
        "colab": {
          "base_uri": "https://localhost:8080/"
        },
        "id": "eb545a4e",
        "outputId": "36b53a29-a7d3-447b-e5d8-7c0433e5accc"
      },
      "source": [
        "df.info()"
      ],
      "id": "eb545a4e",
      "execution_count": 14,
      "outputs": [
        {
          "output_type": "stream",
          "name": "stdout",
          "text": [
            "<class 'pandas.core.frame.DataFrame'>\n",
            "RangeIndex: 1246837 entries, 0 to 1246836\n",
            "Data columns (total 25 columns):\n",
            " #   Column                    Non-Null Count    Dtype   \n",
            "---  ------                    --------------    -----   \n",
            " 0   UNIQUE_IDENTIFIER         1246837 non-null  int64   \n",
            " 1   SEQUENCE_NO               1246837 non-null  int8    \n",
            " 2   STATUS_CHECK              1246837 non-null  int8    \n",
            " 3   CATEGORY_1                1246837 non-null  category\n",
            " 4   CATEGORY_2                1246837 non-null  category\n",
            " 5   ACTIVE_YN                 1246837 non-null  int8    \n",
            " 6   ENTRY                     1246837 non-null  float32 \n",
            " 7   REVENUE                   1246837 non-null  float32 \n",
            " 8   WINNINGS_1                1246837 non-null  float32 \n",
            " 9   WINNINGS_2                1246837 non-null  float32 \n",
            " 10  DISCOUNT                  1246837 non-null  float32 \n",
            " 11  DEPOSIT                   1246837 non-null  float32 \n",
            " 12  DEPOSIT_NUMBER            1246837 non-null  float32 \n",
            " 13  DEPOSIT_2                 1246837 non-null  float32 \n",
            " 14  WITHDRAW                  1246837 non-null  float32 \n",
            " 15  WITHDRAW_NUMBER           1246837 non-null  float32 \n",
            " 16  DEPOSIT_TRAILS            1246837 non-null  float32 \n",
            " 17  ENTRY_NUMBER              1246837 non-null  float32 \n",
            " 18  WINNINGS_NUMBER           1246837 non-null  float32 \n",
            " 19  PRACTICE_ENTRY            1246837 non-null  float32 \n",
            " 20  PRACTICE_WINNINGS         1246837 non-null  float32 \n",
            " 21  PRACTICE_ENTRY_NUMBER     1246837 non-null  float32 \n",
            " 22  PRACTICE_WINNINGS_NUMBER  1246837 non-null  float32 \n",
            " 23  Y1                        1246837 non-null  float32 \n",
            " 24  Y2                        1246837 non-null  float32 \n",
            "dtypes: category(2), float32(19), int64(1), int8(3)\n",
            "memory usage: 105.8 MB\n"
          ]
        }
      ]
    },
    {
      "cell_type": "code",
      "metadata": {
        "colab": {
          "base_uri": "https://localhost:8080/",
          "height": 1000
        },
        "id": "875482b8",
        "outputId": "4b50accc-1814-45be-a983-a44e2087b4e4"
      },
      "source": [
        "klib.corr_plot(df,figsize=(20,18))"
      ],
      "id": "875482b8",
      "execution_count": 16,
      "outputs": [
        {
          "output_type": "execute_result",
          "data": {
            "text/plain": [
              "<matplotlib.axes._subplots.AxesSubplot at 0x7f8938ac1310>"
            ]
          },
          "metadata": {},
          "execution_count": 16
        },
        {
          "output_type": "display_data",
          "data": {
            "image/png": "[encoded data removed]",
            "text/plain": [
              "<Figure size 1440x1296 with 2 Axes>"
            ]
          },
          "metadata": {
            "needs_background": "light"
          }
        }
      ]
    },
    {
      "cell_type": "code",
      "metadata": {
        "id": "44YLKhCUyCs0"
      },
      "source": [
        "df_try = df.copy()"
      ],
      "id": "44YLKhCUyCs0",
      "execution_count": 80,
      "outputs": []
    },
    {
      "cell_type": "code",
      "metadata": {
        "id": "_F3NVRrzvJWQ"
      },
      "source": [
        "df_try = df_try[['UNIQUE_IDENTIFIER', 'SEQUENCE_NO', 'STATUS_CHECK',\n",
        "         'REVENUE','ACTIVE_YN',\n",
        "       'WINNINGS_2', 'DEPOSIT',\n",
        "       'WITHDRAW', 'DEPOSIT_TRAILS', 'ENTRY_NUMBER','Y1', 'Y2']]"
      ],
      "id": "_F3NVRrzvJWQ",
      "execution_count": 81,
      "outputs": []
    },
    {
      "cell_type": "code",
      "metadata": {
        "id": "2tJoKxrs3m6v"
      },
      "source": [
        "df_try = df_try.groupby(by='UNIQUE_IDENTIFIER').median()"
      ],
      "id": "2tJoKxrs3m6v",
      "execution_count": 82,
      "outputs": []
    },
    {
      "cell_type": "code",
      "metadata": {
        "colab": {
          "base_uri": "https://localhost:8080/",
          "height": 315
        },
        "id": "wCxAZ6l1Luj7",
        "outputId": "68cac7b4-83c7-4467-cee5-714038ed98e9"
      },
      "source": [
        "df_try.describe()"
      ],
      "id": "wCxAZ6l1Luj7",
      "execution_count": 83,
      "outputs": [
        {
          "output_type": "execute_result",
          "data": {
            "text/html": [
              "<div>\n",
              "<style scoped>\n",
              "    .dataframe tbody tr th:only-of-type {\n",
              "        vertical-align: middle;\n",
              "    }\n",
              "\n",
              "    .dataframe tbody tr th {\n",
              "        vertical-align: top;\n",
              "    }\n",
              "\n",
              "    .dataframe thead th {\n",
              "        text-align: right;\n",
              "    }\n",
              "</style>\n",
              "<table border=\"1\" class=\"dataframe\">\n",
              "  <thead>\n",
              "    <tr style=\"text-align: right;\">\n",
              "      <th></th>\n",
              "      <th>SEQUENCE_NO</th>\n",
              "      <th>STATUS_CHECK</th>\n",
              "      <th>REVENUE</th>\n",
              "      <th>ACTIVE_YN</th>\n",
              "      <th>WINNINGS_2</th>\n",
              "      <th>DEPOSIT</th>\n",
              "      <th>WITHDRAW</th>\n",
              "      <th>DEPOSIT_TRAILS</th>\n",
              "      <th>ENTRY_NUMBER</th>\n",
              "      <th>Y1</th>\n",
              "      <th>Y2</th>\n",
              "    </tr>\n",
              "  </thead>\n",
              "  <tbody>\n",
              "    <tr>\n",
              "      <th>count</th>\n",
              "      <td>96298.000000</td>\n",
              "      <td>96298.000000</td>\n",
              "      <td>96298.000000</td>\n",
              "      <td>96298.000000</td>\n",
              "      <td>96298.000000</td>\n",
              "      <td>96298.000000</td>\n",
              "      <td>96298.000000</td>\n",
              "      <td>96298.000000</td>\n",
              "      <td>96298.000000</td>\n",
              "      <td>96298.000000</td>\n",
              "      <td>96298.000000</td>\n",
              "    </tr>\n",
              "    <tr>\n",
              "      <th>mean</th>\n",
              "      <td>6.973842</td>\n",
              "      <td>0.279642</td>\n",
              "      <td>0.324882</td>\n",
              "      <td>0.995187</td>\n",
              "      <td>0.002566</td>\n",
              "      <td>0.476747</td>\n",
              "      <td>0.001317</td>\n",
              "      <td>0.056503</td>\n",
              "      <td>1.417505</td>\n",
              "      <td>5.363901</td>\n",
              "      <td>114.962006</td>\n",
              "    </tr>\n",
              "    <tr>\n",
              "      <th>std</th>\n",
              "      <td>5.139861</td>\n",
              "      <td>0.448826</td>\n",
              "      <td>1.483872</td>\n",
              "      <td>0.057603</td>\n",
              "      <td>0.058048</td>\n",
              "      <td>2.086946</td>\n",
              "      <td>0.138782</td>\n",
              "      <td>0.395059</td>\n",
              "      <td>2.448149</td>\n",
              "      <td>8.440128</td>\n",
              "      <td>185.299866</td>\n",
              "    </tr>\n",
              "    <tr>\n",
              "      <th>min</th>\n",
              "      <td>1.000000</td>\n",
              "      <td>0.000000</td>\n",
              "      <td>0.000000</td>\n",
              "      <td>0.000000</td>\n",
              "      <td>0.000000</td>\n",
              "      <td>0.000000</td>\n",
              "      <td>0.000000</td>\n",
              "      <td>0.000000</td>\n",
              "      <td>0.000000</td>\n",
              "      <td>2.604128</td>\n",
              "      <td>0.000000</td>\n",
              "    </tr>\n",
              "    <tr>\n",
              "      <th>25%</th>\n",
              "      <td>2.000000</td>\n",
              "      <td>0.000000</td>\n",
              "      <td>0.006036</td>\n",
              "      <td>1.000000</td>\n",
              "      <td>0.000000</td>\n",
              "      <td>0.000000</td>\n",
              "      <td>0.000000</td>\n",
              "      <td>0.000000</td>\n",
              "      <td>0.200000</td>\n",
              "      <td>3.984064</td>\n",
              "      <td>8.219178</td>\n",
              "    </tr>\n",
              "    <tr>\n",
              "      <th>50%</th>\n",
              "      <td>5.500000</td>\n",
              "      <td>0.000000</td>\n",
              "      <td>0.051517</td>\n",
              "      <td>1.000000</td>\n",
              "      <td>0.000000</td>\n",
              "      <td>0.000000</td>\n",
              "      <td>0.000000</td>\n",
              "      <td>0.000000</td>\n",
              "      <td>0.600000</td>\n",
              "      <td>4.018940</td>\n",
              "      <td>27.397261</td>\n",
              "    </tr>\n",
              "    <tr>\n",
              "      <th>75%</th>\n",
              "      <td>12.000000</td>\n",
              "      <td>1.000000</td>\n",
              "      <td>0.181762</td>\n",
              "      <td>1.000000</td>\n",
              "      <td>0.000000</td>\n",
              "      <td>0.250000</td>\n",
              "      <td>0.000000</td>\n",
              "      <td>0.000000</td>\n",
              "      <td>1.500000</td>\n",
              "      <td>4.332848</td>\n",
              "      <td>131.506851</td>\n",
              "    </tr>\n",
              "    <tr>\n",
              "      <th>max</th>\n",
              "      <td>15.500000</td>\n",
              "      <td>1.000000</td>\n",
              "      <td>173.069672</td>\n",
              "      <td>1.000000</td>\n",
              "      <td>8.221399</td>\n",
              "      <td>75.000000</td>\n",
              "      <td>31.541361</td>\n",
              "      <td>20.200001</td>\n",
              "      <td>61.400002</td>\n",
              "      <td>834.063171</td>\n",
              "      <td>1000.000000</td>\n",
              "    </tr>\n",
              "  </tbody>\n",
              "</table>\n",
              "</div>"
            ],
            "text/plain": [
              "        SEQUENCE_NO  STATUS_CHECK  ...            Y1            Y2\n",
              "count  96298.000000  96298.000000  ...  96298.000000  96298.000000\n",
              "mean       6.973842      0.279642  ...      5.363901    114.962006\n",
              "std        5.139861      0.448826  ...      8.440128    185.299866\n",
              "min        1.000000      0.000000  ...      2.604128      0.000000\n",
              "25%        2.000000      0.000000  ...      3.984064      8.219178\n",
              "50%        5.500000      0.000000  ...      4.018940     27.397261\n",
              "75%       12.000000      1.000000  ...      4.332848    131.506851\n",
              "max       15.500000      1.000000  ...    834.063171   1000.000000\n",
              "\n",
              "[8 rows x 11 columns]"
            ]
          },
          "metadata": {},
          "execution_count": 83
        }
      ]
    },
    {
      "cell_type": "code",
      "metadata": {
        "id": "fca78941"
      },
      "source": [
        "X = df_try.iloc[:,0:-2]\n",
        "y = df_try.iloc[:,-2:]"
      ],
      "id": "fca78941",
      "execution_count": 84,
      "outputs": []
    },
    {
      "cell_type": "markdown",
      "metadata": {
        "id": "5h_I0r5HrXcD"
      },
      "source": [
        "# **Split Data**"
      ],
      "id": "5h_I0r5HrXcD"
    },
    {
      "cell_type": "code",
      "metadata": {
        "id": "b1184f53"
      },
      "source": [
        "from sklearn.model_selection import train_test_split\n",
        "X_train, X_test, y_train, y_test=train_test_split(X, y.values, test_size=0.2,random_state=42,shuffle=True)"
      ],
      "id": "b1184f53",
      "execution_count": 85,
      "outputs": []
    },
    {
      "cell_type": "code",
      "metadata": {
        "colab": {
          "base_uri": "https://localhost:8080/"
        },
        "id": "ie3o69o9JXqK",
        "outputId": "ef7e9f4b-44a8-46e9-dcd9-25ccfe65e826"
      },
      "source": [
        "X_train.shape"
      ],
      "id": "ie3o69o9JXqK",
      "execution_count": 35,
      "outputs": [
        {
          "output_type": "execute_result",
          "data": {
            "text/plain": [
              "(77038, 9)"
            ]
          },
          "metadata": {},
          "execution_count": 35
        }
      ]
    },
    {
      "cell_type": "code",
      "metadata": {
        "colab": {
          "base_uri": "https://localhost:8080/"
        },
        "id": "1q0KLi-ELC8w",
        "outputId": "427754a3-4f1a-4ab7-ac0d-751ec3071714"
      },
      "source": [
        "y_train.shape"
      ],
      "id": "1q0KLi-ELC8w",
      "execution_count": 24,
      "outputs": [
        {
          "output_type": "execute_result",
          "data": {
            "text/plain": [
              "(77038, 2)"
            ]
          },
          "metadata": {},
          "execution_count": 24
        }
      ]
    },
    {
      "cell_type": "markdown",
      "metadata": {
        "id": "ef0VS2VS83T9"
      },
      "source": [
        "# **Build Model**"
      ],
      "id": "ef0VS2VS83T9"
    },
    {
      "cell_type": "code",
      "metadata": {
        "id": "4AKu3HZAIZoQ"
      },
      "source": [
        "# importing the libraries\n",
        "from keras.models import Sequential\n",
        "from keras.layers import Dense\n",
        "from keras.layers import Dropout\n",
        "from keras.regularizers import l1_l2,l1"
      ],
      "id": "4AKu3HZAIZoQ",
      "execution_count": 25,
      "outputs": []
    },
    {
      "cell_type": "code",
      "metadata": {
        "id": "hPMTmRieJ0Ar"
      },
      "source": [
        "model = Sequential()\n",
        "model.add(Dense(units=64, input_dim=9, activation='relu',activity_regularizer=l1(0.001)))\n",
        "model.add(Dense(units=32, activation='relu',activity_regularizer=l1(0.001)))\n",
        "#model.add(Dense(units=16, activation='relu',kernel_initializer='normal'))\n",
        "model.add(Dense(2,kernel_initializer='normal'))\n",
        "model.compile(loss='mean_squared_error', optimizer='adam')"
      ],
      "id": "hPMTmRieJ0Ar",
      "execution_count": 87,
      "outputs": []
    },
    {
      "cell_type": "code",
      "metadata": {
        "colab": {
          "base_uri": "https://localhost:8080/"
        },
        "id": "XCRQWJNOEOzQ",
        "outputId": "70d46fdc-d7fd-4c7b-f5db-d7cb7ffcb63c"
      },
      "source": [
        "history = model.fit(X_train, y_train ,batch_size = 132, epochs = 150, validation_data=(X_test,y_test),verbose=1)"
      ],
      "id": "XCRQWJNOEOzQ",
      "execution_count": 88,
      "outputs": [
        {
          "output_type": "stream",
          "name": "stdout",
          "text": [
            "Epoch 1/150\n",
            "584/584 [==============================] - 2s 3ms/step - loss: 12536.3271 - val_loss: 9449.4717\n",
            "Epoch 2/150\n",
            "584/584 [==============================] - 1s 2ms/step - loss: 8605.0908 - val_loss: 8603.2725\n",
            "Epoch 3/150\n",
            "584/584 [==============================] - 1s 2ms/step - loss: 8160.8110 - val_loss: 8359.6748\n",
            "Epoch 4/150\n",
            "584/584 [==============================] - 1s 2ms/step - loss: 8016.7988 - val_loss: 8258.9199\n",
            "Epoch 5/150\n",
            "584/584 [==============================] - 1s 2ms/step - loss: 7937.4531 - val_loss: 8169.1133\n",
            "Epoch 6/150\n",
            "584/584 [==============================] - 1s 2ms/step - loss: 7889.1235 - val_loss: 8127.5654\n",
            "Epoch 7/150\n",
            "584/584 [==============================] - 1s 2ms/step - loss: 7851.9165 - val_loss: 8080.3540\n",
            "Epoch 8/150\n",
            "584/584 [==============================] - 1s 2ms/step - loss: 7810.2622 - val_loss: 8055.7158\n",
            "Epoch 9/150\n",
            "584/584 [==============================] - 1s 2ms/step - loss: 7782.6172 - val_loss: 8040.0293\n",
            "Epoch 10/150\n",
            "584/584 [==============================] - 1s 2ms/step - loss: 7758.7012 - val_loss: 8014.9897\n",
            "Epoch 11/150\n",
            "584/584 [==============================] - 1s 2ms/step - loss: 7738.7256 - val_loss: 8005.9355\n",
            "Epoch 12/150\n",
            "584/584 [==============================] - 2s 3ms/step - loss: 7726.1650 - val_loss: 7970.0386\n",
            "Epoch 13/150\n",
            "584/584 [==============================] - 1s 2ms/step - loss: 7706.3335 - val_loss: 7954.1318\n",
            "Epoch 14/150\n",
            "584/584 [==============================] - 1s 2ms/step - loss: 7707.3521 - val_loss: 7948.1802\n",
            "Epoch 15/150\n",
            "584/584 [==============================] - 1s 2ms/step - loss: 7685.6157 - val_loss: 7983.1758\n",
            "Epoch 16/150\n",
            "584/584 [==============================] - 1s 2ms/step - loss: 7678.7432 - val_loss: 8043.7427\n",
            "Epoch 17/150\n",
            "584/584 [==============================] - 1s 2ms/step - loss: 7675.4756 - val_loss: 7979.9819\n",
            "Epoch 18/150\n",
            "584/584 [==============================] - 1s 3ms/step - loss: 7677.1108 - val_loss: 7958.7231\n",
            "Epoch 19/150\n",
            "584/584 [==============================] - 1s 2ms/step - loss: 7672.9429 - val_loss: 7916.6338\n",
            "Epoch 20/150\n",
            "584/584 [==============================] - 1s 2ms/step - loss: 7660.5078 - val_loss: 7928.0156\n",
            "Epoch 21/150\n",
            "584/584 [==============================] - 1s 3ms/step - loss: 7660.6416 - val_loss: 7905.3145\n",
            "Epoch 22/150\n",
            "584/584 [==============================] - 1s 3ms/step - loss: 7654.0049 - val_loss: 7917.9521\n",
            "Epoch 23/150\n",
            "584/584 [==============================] - 1s 2ms/step - loss: 7654.0771 - val_loss: 7936.4512\n",
            "Epoch 24/150\n",
            "584/584 [==============================] - 1s 2ms/step - loss: 7648.5615 - val_loss: 7903.9312\n",
            "Epoch 25/150\n",
            "584/584 [==============================] - 1s 2ms/step - loss: 7645.5376 - val_loss: 7948.3315\n",
            "Epoch 26/150\n",
            "584/584 [==============================] - 1s 2ms/step - loss: 7655.7012 - val_loss: 7929.4341\n",
            "Epoch 27/150\n",
            "584/584 [==============================] - 1s 2ms/step - loss: 7636.3652 - val_loss: 7985.8076\n",
            "Epoch 28/150\n",
            "584/584 [==============================] - 1s 2ms/step - loss: 7649.0059 - val_loss: 7901.6309\n",
            "Epoch 29/150\n",
            "584/584 [==============================] - 1s 2ms/step - loss: 7643.1299 - val_loss: 7928.0498\n",
            "Epoch 30/150\n",
            "584/584 [==============================] - 1s 2ms/step - loss: 7639.1123 - val_loss: 7897.5127\n",
            "Epoch 31/150\n",
            "584/584 [==============================] - 1s 2ms/step - loss: 7641.7959 - val_loss: 7909.4688\n",
            "Epoch 32/150\n",
            "584/584 [==============================] - 1s 2ms/step - loss: 7642.5493 - val_loss: 7901.2837\n",
            "Epoch 33/150\n",
            "584/584 [==============================] - 1s 2ms/step - loss: 7625.7715 - val_loss: 7896.7236\n",
            "Epoch 34/150\n",
            "584/584 [==============================] - 1s 2ms/step - loss: 7623.3682 - val_loss: 7914.5801\n",
            "Epoch 35/150\n",
            "584/584 [==============================] - 1s 2ms/step - loss: 7639.7515 - val_loss: 7950.7383\n",
            "Epoch 36/150\n",
            "584/584 [==============================] - 1s 2ms/step - loss: 7632.9019 - val_loss: 7919.1943\n",
            "Epoch 37/150\n",
            "584/584 [==============================] - 1s 2ms/step - loss: 7628.9824 - val_loss: 7886.0527\n",
            "Epoch 38/150\n",
            "584/584 [==============================] - 1s 2ms/step - loss: 7621.7271 - val_loss: 7901.3364\n",
            "Epoch 39/150\n",
            "584/584 [==============================] - 1s 2ms/step - loss: 7626.9204 - val_loss: 7897.0410\n",
            "Epoch 40/150\n",
            "584/584 [==============================] - 1s 2ms/step - loss: 7628.3740 - val_loss: 7913.5967\n",
            "Epoch 41/150\n",
            "584/584 [==============================] - 1s 2ms/step - loss: 7623.7510 - val_loss: 7902.1768\n",
            "Epoch 42/150\n",
            "584/584 [==============================] - 1s 2ms/step - loss: 7618.6069 - val_loss: 7912.9390\n",
            "Epoch 43/150\n",
            "584/584 [==============================] - 1s 2ms/step - loss: 7617.8516 - val_loss: 7983.0713\n",
            "Epoch 44/150\n",
            "584/584 [==============================] - 1s 2ms/step - loss: 7631.4951 - val_loss: 7901.0259\n",
            "Epoch 45/150\n",
            "584/584 [==============================] - 1s 2ms/step - loss: 7618.1226 - val_loss: 7922.5454\n",
            "Epoch 46/150\n",
            "584/584 [==============================] - 1s 2ms/step - loss: 7615.3330 - val_loss: 7884.0615\n",
            "Epoch 47/150\n",
            "584/584 [==============================] - 1s 2ms/step - loss: 7615.7314 - val_loss: 7899.5332\n",
            "Epoch 48/150\n",
            "584/584 [==============================] - 1s 2ms/step - loss: 7618.9067 - val_loss: 7886.9873\n",
            "Epoch 49/150\n",
            "584/584 [==============================] - 1s 2ms/step - loss: 7619.7676 - val_loss: 7902.9883\n",
            "Epoch 50/150\n",
            "584/584 [==============================] - 1s 2ms/step - loss: 7618.5962 - val_loss: 7898.9053\n",
            "Epoch 51/150\n",
            "584/584 [==============================] - 1s 3ms/step - loss: 7614.5073 - val_loss: 7923.9370\n",
            "Epoch 52/150\n",
            "584/584 [==============================] - 1s 2ms/step - loss: 7612.3188 - val_loss: 7902.3521\n",
            "Epoch 53/150\n",
            "584/584 [==============================] - 1s 2ms/step - loss: 7611.8281 - val_loss: 7906.3237\n",
            "Epoch 54/150\n",
            "584/584 [==============================] - 1s 2ms/step - loss: 7615.4956 - val_loss: 7900.2153\n",
            "Epoch 55/150\n",
            "584/584 [==============================] - 1s 2ms/step - loss: 7610.2397 - val_loss: 7890.8887\n",
            "Epoch 56/150\n",
            "584/584 [==============================] - 1s 2ms/step - loss: 7611.8462 - val_loss: 7894.4741\n",
            "Epoch 57/150\n",
            "584/584 [==============================] - 1s 2ms/step - loss: 7609.6157 - val_loss: 7878.8394\n",
            "Epoch 58/150\n",
            "584/584 [==============================] - 1s 2ms/step - loss: 7611.6777 - val_loss: 7884.2192\n",
            "Epoch 59/150\n",
            "584/584 [==============================] - 1s 2ms/step - loss: 7601.5156 - val_loss: 7905.2295\n",
            "Epoch 60/150\n",
            "584/584 [==============================] - 1s 2ms/step - loss: 7611.2222 - val_loss: 7879.9570\n",
            "Epoch 61/150\n",
            "584/584 [==============================] - 1s 2ms/step - loss: 7605.6382 - val_loss: 7883.7192\n",
            "Epoch 62/150\n",
            "584/584 [==============================] - 1s 2ms/step - loss: 7606.5420 - val_loss: 7887.1973\n",
            "Epoch 63/150\n",
            "584/584 [==============================] - 1s 2ms/step - loss: 7600.6968 - val_loss: 7869.0493\n",
            "Epoch 64/150\n",
            "584/584 [==============================] - 1s 2ms/step - loss: 7604.1475 - val_loss: 7887.2241\n",
            "Epoch 65/150\n",
            "584/584 [==============================] - 1s 2ms/step - loss: 7605.5684 - val_loss: 7911.4282\n",
            "Epoch 66/150\n",
            "584/584 [==============================] - 1s 2ms/step - loss: 7604.5703 - val_loss: 7909.1421\n",
            "Epoch 67/150\n",
            "584/584 [==============================] - 1s 2ms/step - loss: 7600.8164 - val_loss: 7887.1128\n",
            "Epoch 68/150\n",
            "584/584 [==============================] - 2s 3ms/step - loss: 7599.1123 - val_loss: 7925.4204\n",
            "Epoch 69/150\n",
            "584/584 [==============================] - 1s 2ms/step - loss: 7597.4067 - val_loss: 7883.9194\n",
            "Epoch 70/150\n",
            "584/584 [==============================] - 1s 2ms/step - loss: 7598.7212 - val_loss: 7923.8149\n",
            "Epoch 71/150\n",
            "584/584 [==============================] - 1s 2ms/step - loss: 7597.7285 - val_loss: 7900.7642\n",
            "Epoch 72/150\n",
            "584/584 [==============================] - 2s 3ms/step - loss: 7596.1333 - val_loss: 7860.1895\n",
            "Epoch 73/150\n",
            "584/584 [==============================] - 1s 2ms/step - loss: 7597.4043 - val_loss: 7879.7310\n",
            "Epoch 74/150\n",
            "584/584 [==============================] - 2s 3ms/step - loss: 7597.5781 - val_loss: 8050.5811\n",
            "Epoch 75/150\n",
            "584/584 [==============================] - 1s 2ms/step - loss: 7599.6924 - val_loss: 7870.8970\n",
            "Epoch 76/150\n",
            "584/584 [==============================] - 1s 2ms/step - loss: 7592.7080 - val_loss: 7925.9956\n",
            "Epoch 77/150\n",
            "584/584 [==============================] - 1s 2ms/step - loss: 7593.9258 - val_loss: 7931.8120\n",
            "Epoch 78/150\n",
            "584/584 [==============================] - 1s 2ms/step - loss: 7594.4761 - val_loss: 7865.7070\n",
            "Epoch 79/150\n",
            "584/584 [==============================] - 2s 3ms/step - loss: 7588.0459 - val_loss: 7889.9946\n",
            "Epoch 80/150\n",
            "584/584 [==============================] - 1s 2ms/step - loss: 7588.0557 - val_loss: 7861.0840\n",
            "Epoch 81/150\n",
            "584/584 [==============================] - 1s 2ms/step - loss: 7586.8672 - val_loss: 7918.8179\n",
            "Epoch 82/150\n",
            "584/584 [==============================] - 1s 3ms/step - loss: 7601.2705 - val_loss: 7866.3936\n",
            "Epoch 83/150\n",
            "584/584 [==============================] - 1s 2ms/step - loss: 7580.0972 - val_loss: 7868.4785\n",
            "Epoch 84/150\n",
            "584/584 [==============================] - 1s 2ms/step - loss: 7593.6470 - val_loss: 7860.7061\n",
            "Epoch 85/150\n",
            "584/584 [==============================] - 1s 2ms/step - loss: 7585.2959 - val_loss: 7855.0122\n",
            "Epoch 86/150\n",
            "584/584 [==============================] - 1s 2ms/step - loss: 7594.7783 - val_loss: 7951.0723\n",
            "Epoch 87/150\n",
            "584/584 [==============================] - 1s 2ms/step - loss: 7590.0737 - val_loss: 7868.9546\n",
            "Epoch 88/150\n",
            "584/584 [==============================] - 1s 2ms/step - loss: 7587.9824 - val_loss: 7864.9082\n",
            "Epoch 89/150\n",
            "584/584 [==============================] - 1s 2ms/step - loss: 7583.6030 - val_loss: 7877.8477\n",
            "Epoch 90/150\n",
            "584/584 [==============================] - 1s 2ms/step - loss: 7593.4673 - val_loss: 7876.9917\n",
            "Epoch 91/150\n",
            "584/584 [==============================] - 1s 2ms/step - loss: 7578.4922 - val_loss: 7862.9907\n",
            "Epoch 92/150\n",
            "584/584 [==============================] - 1s 2ms/step - loss: 7594.0557 - val_loss: 7865.6870\n",
            "Epoch 93/150\n",
            "584/584 [==============================] - 1s 2ms/step - loss: 7579.0728 - val_loss: 7858.5801\n",
            "Epoch 94/150\n",
            "584/584 [==============================] - 1s 2ms/step - loss: 7574.4355 - val_loss: 7857.2188\n",
            "Epoch 95/150\n",
            "584/584 [==============================] - 1s 2ms/step - loss: 7578.9790 - val_loss: 7872.2534\n",
            "Epoch 96/150\n",
            "584/584 [==============================] - 1s 2ms/step - loss: 7577.4214 - val_loss: 7862.1899\n",
            "Epoch 97/150\n",
            "584/584 [==============================] - 1s 2ms/step - loss: 7581.3164 - val_loss: 7858.5645\n",
            "Epoch 98/150\n",
            "584/584 [==============================] - 1s 2ms/step - loss: 7575.2720 - val_loss: 7868.5771\n",
            "Epoch 99/150\n",
            "584/584 [==============================] - 2s 3ms/step - loss: 7573.1362 - val_loss: 7859.4077\n",
            "Epoch 100/150\n",
            "584/584 [==============================] - 2s 3ms/step - loss: 7576.4316 - val_loss: 7863.2524\n",
            "Epoch 101/150\n",
            "584/584 [==============================] - 1s 2ms/step - loss: 7573.9229 - val_loss: 7865.4961\n",
            "Epoch 102/150\n",
            "584/584 [==============================] - 1s 2ms/step - loss: 7581.1338 - val_loss: 7850.9292\n",
            "Epoch 103/150\n",
            "584/584 [==============================] - 1s 2ms/step - loss: 7570.2969 - val_loss: 7849.3823\n",
            "Epoch 104/150\n",
            "584/584 [==============================] - 1s 2ms/step - loss: 7585.6201 - val_loss: 7867.7207\n",
            "Epoch 105/150\n",
            "584/584 [==============================] - 2s 3ms/step - loss: 7583.1416 - val_loss: 7898.0220\n",
            "Epoch 106/150\n",
            "584/584 [==============================] - 1s 2ms/step - loss: 7574.4922 - val_loss: 7871.0669\n",
            "Epoch 107/150\n",
            "584/584 [==============================] - 1s 2ms/step - loss: 7574.1890 - val_loss: 7859.3755\n",
            "Epoch 108/150\n",
            "584/584 [==============================] - 1s 2ms/step - loss: 7574.8369 - val_loss: 7903.9277\n",
            "Epoch 109/150\n",
            "584/584 [==============================] - 1s 2ms/step - loss: 7576.6318 - val_loss: 7872.3379\n",
            "Epoch 110/150\n",
            "584/584 [==============================] - 1s 2ms/step - loss: 7579.1626 - val_loss: 7850.8833\n",
            "Epoch 111/150\n",
            "584/584 [==============================] - 1s 2ms/step - loss: 7574.3574 - val_loss: 7889.7979\n",
            "Epoch 112/150\n",
            "584/584 [==============================] - 1s 2ms/step - loss: 7577.6748 - val_loss: 7897.2554\n",
            "Epoch 113/150\n",
            "584/584 [==============================] - 1s 2ms/step - loss: 7582.4673 - val_loss: 7856.9751\n",
            "Epoch 114/150\n",
            "584/584 [==============================] - 2s 3ms/step - loss: 7577.0400 - val_loss: 7868.0625\n",
            "Epoch 115/150\n",
            "584/584 [==============================] - 2s 3ms/step - loss: 7572.7705 - val_loss: 7857.7734\n",
            "Epoch 116/150\n",
            "584/584 [==============================] - 1s 2ms/step - loss: 7570.1289 - val_loss: 7879.7871\n",
            "Epoch 117/150\n",
            "584/584 [==============================] - 1s 2ms/step - loss: 7568.1152 - val_loss: 7849.2012\n",
            "Epoch 118/150\n",
            "584/584 [==============================] - 1s 2ms/step - loss: 7564.1699 - val_loss: 7868.3408\n",
            "Epoch 119/150\n",
            "584/584 [==============================] - 1s 2ms/step - loss: 7572.2373 - val_loss: 7876.0962\n",
            "Epoch 120/150\n",
            "584/584 [==============================] - 1s 2ms/step - loss: 7567.4004 - val_loss: 7856.4185\n",
            "Epoch 121/150\n",
            "584/584 [==============================] - 1s 2ms/step - loss: 7573.6187 - val_loss: 7868.4028\n",
            "Epoch 122/150\n",
            "584/584 [==============================] - 1s 2ms/step - loss: 7568.0596 - val_loss: 7853.8052\n",
            "Epoch 123/150\n",
            "584/584 [==============================] - 2s 3ms/step - loss: 7574.5342 - val_loss: 7876.2822\n",
            "Epoch 124/150\n",
            "584/584 [==============================] - 1s 2ms/step - loss: 7564.5703 - val_loss: 7867.9917\n",
            "Epoch 125/150\n",
            "584/584 [==============================] - 1s 2ms/step - loss: 7565.4053 - val_loss: 7879.0747\n",
            "Epoch 126/150\n",
            "584/584 [==============================] - 1s 2ms/step - loss: 7562.1982 - val_loss: 7873.2485\n",
            "Epoch 127/150\n",
            "584/584 [==============================] - 1s 2ms/step - loss: 7565.9644 - val_loss: 7858.0513\n",
            "Epoch 128/150\n",
            "584/584 [==============================] - 1s 2ms/step - loss: 7565.8521 - val_loss: 7857.1821\n",
            "Epoch 129/150\n",
            "584/584 [==============================] - 1s 2ms/step - loss: 7563.0518 - val_loss: 7890.3203\n",
            "Epoch 130/150\n",
            "584/584 [==============================] - 1s 2ms/step - loss: 7562.4443 - val_loss: 7853.3892\n",
            "Epoch 131/150\n",
            "584/584 [==============================] - 1s 2ms/step - loss: 7555.6562 - val_loss: 7898.8867\n",
            "Epoch 132/150\n",
            "584/584 [==============================] - 1s 2ms/step - loss: 7564.9565 - val_loss: 7853.5859\n",
            "Epoch 133/150\n",
            "584/584 [==============================] - 1s 2ms/step - loss: 7559.9478 - val_loss: 7847.2666\n",
            "Epoch 134/150\n",
            "584/584 [==============================] - 1s 2ms/step - loss: 7564.6353 - val_loss: 7851.5298\n",
            "Epoch 135/150\n",
            "584/584 [==============================] - 1s 2ms/step - loss: 7564.6934 - val_loss: 7845.0757\n",
            "Epoch 136/150\n",
            "584/584 [==============================] - 1s 2ms/step - loss: 7564.0342 - val_loss: 7905.8843\n",
            "Epoch 137/150\n",
            "584/584 [==============================] - 1s 2ms/step - loss: 7561.3188 - val_loss: 7876.8872\n",
            "Epoch 138/150\n",
            "584/584 [==============================] - 1s 2ms/step - loss: 7559.0190 - val_loss: 7856.6797\n",
            "Epoch 139/150\n",
            "584/584 [==============================] - 1s 2ms/step - loss: 7569.8496 - val_loss: 7858.8135\n",
            "Epoch 140/150\n",
            "584/584 [==============================] - 1s 2ms/step - loss: 7557.8691 - val_loss: 7851.8677\n",
            "Epoch 141/150\n",
            "584/584 [==============================] - 1s 2ms/step - loss: 7567.3174 - val_loss: 7854.8047\n",
            "Epoch 142/150\n",
            "584/584 [==============================] - 1s 2ms/step - loss: 7560.1665 - val_loss: 7880.4336\n",
            "Epoch 143/150\n",
            "584/584 [==============================] - 1s 2ms/step - loss: 7561.6304 - val_loss: 7853.0542\n",
            "Epoch 144/150\n",
            "584/584 [==============================] - 1s 3ms/step - loss: 7559.7310 - val_loss: 7866.2354\n",
            "Epoch 145/150\n",
            "584/584 [==============================] - 2s 3ms/step - loss: 7559.1401 - val_loss: 7859.4365\n",
            "Epoch 146/150\n",
            "584/584 [==============================] - 1s 2ms/step - loss: 7558.3545 - val_loss: 7880.3628\n",
            "Epoch 147/150\n",
            "584/584 [==============================] - 1s 2ms/step - loss: 7559.7661 - val_loss: 7848.4502\n",
            "Epoch 148/150\n",
            "584/584 [==============================] - 1s 2ms/step - loss: 7567.6133 - val_loss: 7856.6064\n",
            "Epoch 149/150\n",
            "584/584 [==============================] - 1s 2ms/step - loss: 7555.1528 - val_loss: 7855.2339\n",
            "Epoch 150/150\n",
            "584/584 [==============================] - 1s 2ms/step - loss: 7551.7847 - val_loss: 7853.9014\n"
          ]
        }
      ]
    },
    {
      "cell_type": "code",
      "metadata": {
        "colab": {
          "base_uri": "https://localhost:8080/"
        },
        "id": "hjjkFCZPSipJ",
        "outputId": "0fcda5a2-083b-4301-ee10-713124297340"
      },
      "source": [
        "from sklearn.metrics import mean_squared_error\n",
        "from sklearn.metrics import r2_score\n",
        "from math import sqrt\n",
        "pred = model.predict(X_test)\n",
        "print(sqrt(mean_squared_error(y_test,pred)) )\n",
        "print(r2_score(y_test,pred))"
      ],
      "id": "hjjkFCZPSipJ",
      "execution_count": 90,
      "outputs": [
        {
          "output_type": "stream",
          "name": "stdout",
          "text": [
            "88.61950408294017\n",
            "0.47482114659796704\n"
          ]
        }
      ]
    },
    {
      "cell_type": "code",
      "metadata": {
        "colab": {
          "base_uri": "https://localhost:8080/",
          "height": 298
        },
        "id": "PSKw1XSGxsjX",
        "outputId": "bdcce521-812b-45e9-e5fb-d7acd41596b3"
      },
      "source": [
        "import matplotlib.pyplot as plt\n",
        "loss     = history.history[    'loss' ]\n",
        "val_loss = history.history['val_loss' ]\n",
        "epochs   = range(len(loss))\n",
        "plt.figure()\n",
        "plt.plot  ( epochs,     loss )\n",
        "plt.plot  ( epochs, val_loss )\n",
        "plt.title ('Training and validation loss'   )"
      ],
      "id": "PSKw1XSGxsjX",
      "execution_count": 89,
      "outputs": [
        {
          "output_type": "execute_result",
          "data": {
            "text/plain": [
              "Text(0.5, 1.0, 'Training and validation loss')"
            ]
          },
          "metadata": {},
          "execution_count": 89
        },
        {
          "output_type": "display_data",
          "data": {
            "image/png": "[encoded data removed]",
            "text/plain": [
              "<Figure size 432x288 with 1 Axes>"
            ]
          },
          "metadata": {
            "needs_background": "light"
          }
        }
      ]
    },
    {
      "cell_type": "code",
      "metadata": {
        "colab": {
          "base_uri": "https://localhost:8080/",
          "height": 337
        },
        "id": "zi8YPLpZzrRW",
        "outputId": "39443534-6e31-46f5-a8ab-b6c1371f3b88"
      },
      "source": [
        "import seaborn as sns\n",
        "sns.regplot(y_test[:,0],pred[:,0],ci=None)\n"
      ],
      "id": "zi8YPLpZzrRW",
      "execution_count": 94,
      "outputs": [
        {
          "output_type": "stream",
          "name": "stderr",
          "text": [
            "/usr/local/lib/python3.7/dist-packages/seaborn/_decorators.py:43: FutureWarning: Pass the following variables as keyword args: x, y. From version 0.12, the only valid positional argument will be `data`, and passing other arguments without an explicit keyword will result in an error or misinterpretation.\n",
            "  FutureWarning\n"
          ]
        },
        {
          "output_type": "execute_result",
          "data": {
            "text/plain": [
              "<matplotlib.axes._subplots.AxesSubplot at 0x7f88d375c6d0>"
            ]
          },
          "metadata": {},
          "execution_count": 94
        },
        {
          "output_type": "display_data",
          "data": {
            "image/png": "[encoded data removed]",
            "text/plain": [
              "<Figure size 432x288 with 1 Axes>"
            ]
          },
          "metadata": {
            "needs_background": "light"
          }
        }
      ]
    },
    {
      "cell_type": "markdown",
      "metadata": {
        "id": "38d3c0f2"
      },
      "source": [
        "# Test data"
      ],
      "id": "38d3c0f2"
    },
    {
      "cell_type": "code",
      "metadata": {
        "id": "ddQ61-j6MNyc"
      },
      "source": [
        "test=klib.convert_datatypes(test)\n",
        "test['cat_1'] = test['CATEGORY_1'].cat.codes\n",
        "test['cat_2'] = test['CATEGORY_2'].cat.codes"
      ],
      "id": "ddQ61-j6MNyc",
      "execution_count": 40,
      "outputs": []
    },
    {
      "cell_type": "code",
      "metadata": {
        "id": "o_x-gupjMR6w"
      },
      "source": [
        "test_X = test[['UNIQUE_IDENTIFIER', 'SEQUENCE_NO', 'STATUS_CHECK',\n",
        "         'REVENUE','ACTIVE_YN',\n",
        "       'WINNINGS_2', 'DEPOSIT',\n",
        "       'WITHDRAW', 'DEPOSIT_TRAILS', 'ENTRY_NUMBER']]"
      ],
      "id": "o_x-gupjMR6w",
      "execution_count": 41,
      "outputs": []
    },
    {
      "cell_type": "code",
      "metadata": {
        "id": "URzMbsPxMHb6"
      },
      "source": [
        "test_X = test_X.groupby(by='UNIQUE_IDENTIFIER').median()"
      ],
      "id": "URzMbsPxMHb6",
      "execution_count": 42,
      "outputs": []
    },
    {
      "cell_type": "code",
      "metadata": {
        "id": "VehJ_Jm6_xQl"
      },
      "source": [
        "pred = model.predict(test_X.values)"
      ],
      "id": "VehJ_Jm6_xQl",
      "execution_count": 43,
      "outputs": []
    },
    {
      "cell_type": "code",
      "metadata": {
        "id": "afQ6RSM-_5ON"
      },
      "source": [
        "test_final = pd.DataFrame(pred,columns=['Y1','Y2'])"
      ],
      "id": "afQ6RSM-_5ON",
      "execution_count": 44,
      "outputs": []
    },
    {
      "cell_type": "code",
      "metadata": {
        "id": "mfXXEnXEA3OO"
      },
      "source": [
        "test_final['UNIQUE_IDENTIFIER'] = test_X.index"
      ],
      "id": "mfXXEnXEA3OO",
      "execution_count": 46,
      "outputs": []
    },
    {
      "cell_type": "code",
      "metadata": {
        "id": "3H5J0eo0NfXn"
      },
      "source": [
        "test_final = test_final[['UNIQUE_IDENTIFIER','Y1','Y2']]"
      ],
      "id": "3H5J0eo0NfXn",
      "execution_count": 47,
      "outputs": []
    },
    {
      "cell_type": "code",
      "metadata": {
        "colab": {
          "base_uri": "https://localhost:8080/",
          "height": 417
        },
        "id": "1lSkUWf1dFIX",
        "outputId": "c323793a-58f3-46eb-cb0b-02bcbd706a2b"
      },
      "source": [
        "test_final"
      ],
      "id": "1lSkUWf1dFIX",
      "execution_count": 48,
      "outputs": [
        {
          "output_type": "execute_result",
          "data": {
            "text/html": [
              "<div>\n",
              "<style scoped>\n",
              "    .dataframe tbody tr th:only-of-type {\n",
              "        vertical-align: middle;\n",
              "    }\n",
              "\n",
              "    .dataframe tbody tr th {\n",
              "        vertical-align: top;\n",
              "    }\n",
              "\n",
              "    .dataframe thead th {\n",
              "        text-align: right;\n",
              "    }\n",
              "</style>\n",
              "<table border=\"1\" class=\"dataframe\">\n",
              "  <thead>\n",
              "    <tr style=\"text-align: right;\">\n",
              "      <th></th>\n",
              "      <th>UNIQUE_IDENTIFIER</th>\n",
              "      <th>Y1</th>\n",
              "      <th>Y2</th>\n",
              "    </tr>\n",
              "  </thead>\n",
              "  <tbody>\n",
              "    <tr>\n",
              "      <th>0</th>\n",
              "      <td>98481269471</td>\n",
              "      <td>2.417268</td>\n",
              "      <td>-4.259769</td>\n",
              "    </tr>\n",
              "    <tr>\n",
              "      <th>1</th>\n",
              "      <td>98481270499</td>\n",
              "      <td>4.271267</td>\n",
              "      <td>41.297520</td>\n",
              "    </tr>\n",
              "    <tr>\n",
              "      <th>2</th>\n",
              "      <td>98481272694</td>\n",
              "      <td>4.130105</td>\n",
              "      <td>61.153324</td>\n",
              "    </tr>\n",
              "    <tr>\n",
              "      <th>3</th>\n",
              "      <td>98481273365</td>\n",
              "      <td>4.069968</td>\n",
              "      <td>161.607178</td>\n",
              "    </tr>\n",
              "    <tr>\n",
              "      <th>4</th>\n",
              "      <td>98481278321</td>\n",
              "      <td>3.650874</td>\n",
              "      <td>16.689039</td>\n",
              "    </tr>\n",
              "    <tr>\n",
              "      <th>...</th>\n",
              "      <td>...</td>\n",
              "      <td>...</td>\n",
              "      <td>...</td>\n",
              "    </tr>\n",
              "    <tr>\n",
              "      <th>65237</th>\n",
              "      <td>98537204815</td>\n",
              "      <td>4.859625</td>\n",
              "      <td>475.628052</td>\n",
              "    </tr>\n",
              "    <tr>\n",
              "      <th>65238</th>\n",
              "      <td>98537204877</td>\n",
              "      <td>3.958731</td>\n",
              "      <td>2.374432</td>\n",
              "    </tr>\n",
              "    <tr>\n",
              "      <th>65239</th>\n",
              "      <td>98537204881</td>\n",
              "      <td>3.963684</td>\n",
              "      <td>38.522171</td>\n",
              "    </tr>\n",
              "    <tr>\n",
              "      <th>65240</th>\n",
              "      <td>98537205013</td>\n",
              "      <td>3.857271</td>\n",
              "      <td>89.258453</td>\n",
              "    </tr>\n",
              "    <tr>\n",
              "      <th>65241</th>\n",
              "      <td>98537205065</td>\n",
              "      <td>5.481652</td>\n",
              "      <td>482.548523</td>\n",
              "    </tr>\n",
              "  </tbody>\n",
              "</table>\n",
              "<p>65242 rows × 3 columns</p>\n",
              "</div>"
            ],
            "text/plain": [
              "       UNIQUE_IDENTIFIER        Y1          Y2\n",
              "0            98481269471  2.417268   -4.259769\n",
              "1            98481270499  4.271267   41.297520\n",
              "2            98481272694  4.130105   61.153324\n",
              "3            98481273365  4.069968  161.607178\n",
              "4            98481278321  3.650874   16.689039\n",
              "...                  ...       ...         ...\n",
              "65237        98537204815  4.859625  475.628052\n",
              "65238        98537204877  3.958731    2.374432\n",
              "65239        98537204881  3.963684   38.522171\n",
              "65240        98537205013  3.857271   89.258453\n",
              "65241        98537205065  5.481652  482.548523\n",
              "\n",
              "[65242 rows x 3 columns]"
            ]
          },
          "metadata": {},
          "execution_count": 48
        }
      ]
    },
    {
      "cell_type": "code",
      "metadata": {
        "id": "L_w_FmcLOBuh"
      },
      "source": [
        "test_final.to_csv('submit.csv',index=False)"
      ],
      "id": "L_w_FmcLOBuh",
      "execution_count": null,
      "outputs": []
    }
  ]
}